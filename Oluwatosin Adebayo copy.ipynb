{
 "cells": [
  {
   "cell_type": "code",
   "execution_count": 34,
   "id": "24808351",
   "metadata": {},
   "outputs": [],
   "source": [
    "# import the needed libraries\n",
    "\n",
    "import matplotlib.pyplot as plt\n",
    "import seaborn as sns\n",
    "%matplotlib inline\n",
    "import plotly.express as px "
   ]
  },
  {
   "cell_type": "code",
   "execution_count": 35,
   "id": "6195c783-50f4-4bd9-a48f-ac37a571283e",
   "metadata": {},
   "outputs": [],
   "source": [
    "import pandas as pd\n",
    "import numpy as np\n",
    "\n",
    "# Set a random seed for reproducibility\n",
    "np.random.seed(22)\n",
    "\n",
    "# Create Sales and Cost columns\n",
    "sales = np.random.randint(100, 500, size=200)\n",
    "cost = np.random.randint(80, 400, size=200)\n",
    "\n",
    "# Construct the data dictionary\n",
    "data = {\n",
    "    'Date': pd.date_range(start='1/1/2023', periods=200, freq='D'),\n",
    "    'Product': ['A', 'B', 'C', 'D', 'E', 'F', 'G', 'H'] * 25,\n",
    "    'Region': ['North', 'South', 'East', 'West', 'North', 'South', 'East', 'West'] * 25,\n",
    "    'Sales': pd.Series(sales), \n",
    "    'Cost': pd.Series(cost)\n",
    "}\n",
    "\n",
    "# Introduce some missing values\n",
    "data['Sales'].iloc[np.random.randint(0, 200, 10)] = np.nan\n",
    "data['Cost'].iloc[np.random.randint(0, 200, 10)] = np.nan\n",
    "\n",
    "# Create the DataFrame\n",
    "df = pd.DataFrame(data)"
   ]
  },
  {
   "cell_type": "code",
   "execution_count": 36,
   "id": "b0825cec",
   "metadata": {},
   "outputs": [
    {
     "data": {
      "text/html": [
       "<div>\n",
       "<style scoped>\n",
       "    .dataframe tbody tr th:only-of-type {\n",
       "        vertical-align: middle;\n",
       "    }\n",
       "\n",
       "    .dataframe tbody tr th {\n",
       "        vertical-align: top;\n",
       "    }\n",
       "\n",
       "    .dataframe thead th {\n",
       "        text-align: right;\n",
       "    }\n",
       "</style>\n",
       "<table border=\"1\" class=\"dataframe\">\n",
       "  <thead>\n",
       "    <tr style=\"text-align: right;\">\n",
       "      <th></th>\n",
       "      <th>Date</th>\n",
       "      <th>Product</th>\n",
       "      <th>Region</th>\n",
       "      <th>Sales</th>\n",
       "      <th>Cost</th>\n",
       "    </tr>\n",
       "  </thead>\n",
       "  <tbody>\n",
       "    <tr>\n",
       "      <th>100</th>\n",
       "      <td>2023-04-11</td>\n",
       "      <td>E</td>\n",
       "      <td>North</td>\n",
       "      <td>348.0</td>\n",
       "      <td>149.0</td>\n",
       "    </tr>\n",
       "    <tr>\n",
       "      <th>86</th>\n",
       "      <td>2023-03-28</td>\n",
       "      <td>G</td>\n",
       "      <td>East</td>\n",
       "      <td>169.0</td>\n",
       "      <td>262.0</td>\n",
       "    </tr>\n",
       "    <tr>\n",
       "      <th>31</th>\n",
       "      <td>2023-02-01</td>\n",
       "      <td>H</td>\n",
       "      <td>West</td>\n",
       "      <td>123.0</td>\n",
       "      <td>326.0</td>\n",
       "    </tr>\n",
       "    <tr>\n",
       "      <th>146</th>\n",
       "      <td>2023-05-27</td>\n",
       "      <td>C</td>\n",
       "      <td>East</td>\n",
       "      <td>119.0</td>\n",
       "      <td>321.0</td>\n",
       "    </tr>\n",
       "    <tr>\n",
       "      <th>111</th>\n",
       "      <td>2023-04-22</td>\n",
       "      <td>H</td>\n",
       "      <td>West</td>\n",
       "      <td>116.0</td>\n",
       "      <td>260.0</td>\n",
       "    </tr>\n",
       "  </tbody>\n",
       "</table>\n",
       "</div>"
      ],
      "text/plain": [
       "          Date Product Region  Sales   Cost\n",
       "100 2023-04-11       E  North  348.0  149.0\n",
       "86  2023-03-28       G   East  169.0  262.0\n",
       "31  2023-02-01       H   West  123.0  326.0\n",
       "146 2023-05-27       C   East  119.0  321.0\n",
       "111 2023-04-22       H   West  116.0  260.0"
      ]
     },
     "execution_count": 36,
     "metadata": {},
     "output_type": "execute_result"
    }
   ],
   "source": [
    "# Check the data\n",
    "df.sample(5)"
   ]
  },
  {
   "cell_type": "markdown",
   "id": "f77d292b",
   "metadata": {},
   "source": [
    "### Data Cleaning\n",
    "\n",
    "**Task**: Identify and handle missing values in the 'Sales' and 'Cost' columns. Replace missing values with the mean of their respective columns.  "
   ]
  },
  {
   "cell_type": "code",
   "execution_count": 37,
   "id": "88f04259",
   "metadata": {},
   "outputs": [
    {
     "name": "stdout",
     "output_type": "stream",
     "text": [
      "<class 'pandas.core.frame.DataFrame'>\n",
      "RangeIndex: 200 entries, 0 to 199\n",
      "Data columns (total 5 columns):\n",
      " #   Column   Non-Null Count  Dtype         \n",
      "---  ------   --------------  -----         \n",
      " 0   Date     200 non-null    datetime64[ns]\n",
      " 1   Product  200 non-null    object        \n",
      " 2   Region   200 non-null    object        \n",
      " 3   Sales    190 non-null    float64       \n",
      " 4   Cost     190 non-null    float64       \n",
      "dtypes: datetime64[ns](1), float64(2), object(2)\n",
      "memory usage: 7.9+ KB\n"
     ]
    }
   ],
   "source": [
    "# Check data information\n",
    "df.info()"
   ]
  },
  {
   "cell_type": "markdown",
   "id": "f332e6eb",
   "metadata": {},
   "source": [
    "**Question**: What is the total number of missing values in the dataset before cleaning?  "
   ]
  },
  {
   "cell_type": "code",
   "execution_count": 38,
   "id": "61e2ed25",
   "metadata": {},
   "outputs": [
    {
     "data": {
      "text/plain": [
       "Date        0\n",
       "Product     0\n",
       "Region      0\n",
       "Sales      10\n",
       "Cost       10\n",
       "dtype: int64"
      ]
     },
     "execution_count": 38,
     "metadata": {},
     "output_type": "execute_result"
    }
   ],
   "source": [
    "missingData = df.isnull().sum()\n",
    "missingData"
   ]
  },
  {
   "cell_type": "markdown",
   "id": "9044c2e9",
   "metadata": {},
   "source": [
    "#### Data Information states that Sales and Cost has 10 Distinct missing data from the dataframe\n"
   ]
  },
  {
   "cell_type": "code",
   "execution_count": 39,
   "id": "3dd5eb22",
   "metadata": {},
   "outputs": [],
   "source": [
    "# Fill missing values with mean of the column values\n",
    "\n",
    "meanSales= df['Sales'].mean()\n",
    "df.fillna({'Sales' : meanSales}, inplace=True)\n",
    "\n",
    "meanCost= df['Cost'].mean()\n",
    "df.fillna({'Cost' : meanCost}, inplace=True)"
   ]
  },
  {
   "cell_type": "code",
   "execution_count": 40,
   "id": "9f6dc478",
   "metadata": {},
   "outputs": [
    {
     "name": "stdout",
     "output_type": "stream",
     "text": [
      "<class 'pandas.core.frame.DataFrame'>\n",
      "RangeIndex: 200 entries, 0 to 199\n",
      "Data columns (total 5 columns):\n",
      " #   Column   Non-Null Count  Dtype         \n",
      "---  ------   --------------  -----         \n",
      " 0   Date     200 non-null    datetime64[ns]\n",
      " 1   Product  200 non-null    object        \n",
      " 2   Region   200 non-null    object        \n",
      " 3   Sales    200 non-null    float64       \n",
      " 4   Cost     200 non-null    float64       \n",
      "dtypes: datetime64[ns](1), float64(2), object(2)\n",
      "memory usage: 7.9+ KB\n"
     ]
    }
   ],
   "source": [
    "# Check the data information\n",
    "df.info()"
   ]
  },
  {
   "cell_type": "markdown",
   "id": "0a57b5be",
   "metadata": {},
   "source": [
    "#### Confirm missing datas in Sales and Cost has been filled with mean values"
   ]
  },
  {
   "cell_type": "code",
   "execution_count": 41,
   "id": "705d521c",
   "metadata": {},
   "outputs": [
    {
     "data": {
      "text/plain": [
       "Date       0\n",
       "Product    0\n",
       "Region     0\n",
       "Sales      0\n",
       "Cost       0\n",
       "dtype: int64"
      ]
     },
     "execution_count": 41,
     "metadata": {},
     "output_type": "execute_result"
    }
   ],
   "source": [
    "df.isnull().sum()"
   ]
  },
  {
   "cell_type": "markdown",
   "id": "28d715db",
   "metadata": {},
   "source": [
    "### Feature Engineering:\n",
    "\n",
    "**Task**: Create a new column named 'Profit/Loss' that calculates the difference between 'Sales' and 'Cost'.  \n",
    "**Question**: After creating the 'Profit/Loss' column, what is the average 'Profit/Loss' for product 'A'?"
   ]
  },
  {
   "cell_type": "code",
   "execution_count": 42,
   "id": "27655426",
   "metadata": {},
   "outputs": [],
   "source": [
    "df['Profit/Loss'] = df['Sales']-df['Cost']"
   ]
  },
  {
   "cell_type": "code",
   "execution_count": 43,
   "id": "8041d32c",
   "metadata": {},
   "outputs": [
    {
     "data": {
      "text/html": [
       "<div>\n",
       "<style scoped>\n",
       "    .dataframe tbody tr th:only-of-type {\n",
       "        vertical-align: middle;\n",
       "    }\n",
       "\n",
       "    .dataframe tbody tr th {\n",
       "        vertical-align: top;\n",
       "    }\n",
       "\n",
       "    .dataframe thead th {\n",
       "        text-align: right;\n",
       "    }\n",
       "</style>\n",
       "<table border=\"1\" class=\"dataframe\">\n",
       "  <thead>\n",
       "    <tr style=\"text-align: right;\">\n",
       "      <th></th>\n",
       "      <th>Date</th>\n",
       "      <th>Product</th>\n",
       "      <th>Region</th>\n",
       "      <th>Sales</th>\n",
       "      <th>Cost</th>\n",
       "      <th>Profit/Loss</th>\n",
       "    </tr>\n",
       "  </thead>\n",
       "  <tbody>\n",
       "    <tr>\n",
       "      <th>75</th>\n",
       "      <td>2023-03-17</td>\n",
       "      <td>D</td>\n",
       "      <td>West</td>\n",
       "      <td>492.0</td>\n",
       "      <td>396.0</td>\n",
       "      <td>96.0</td>\n",
       "    </tr>\n",
       "    <tr>\n",
       "      <th>18</th>\n",
       "      <td>2023-01-19</td>\n",
       "      <td>C</td>\n",
       "      <td>East</td>\n",
       "      <td>127.0</td>\n",
       "      <td>161.0</td>\n",
       "      <td>-34.0</td>\n",
       "    </tr>\n",
       "    <tr>\n",
       "      <th>108</th>\n",
       "      <td>2023-04-19</td>\n",
       "      <td>E</td>\n",
       "      <td>North</td>\n",
       "      <td>483.0</td>\n",
       "      <td>94.0</td>\n",
       "      <td>389.0</td>\n",
       "    </tr>\n",
       "    <tr>\n",
       "      <th>47</th>\n",
       "      <td>2023-02-17</td>\n",
       "      <td>H</td>\n",
       "      <td>West</td>\n",
       "      <td>349.0</td>\n",
       "      <td>158.0</td>\n",
       "      <td>191.0</td>\n",
       "    </tr>\n",
       "    <tr>\n",
       "      <th>6</th>\n",
       "      <td>2023-01-07</td>\n",
       "      <td>G</td>\n",
       "      <td>East</td>\n",
       "      <td>492.0</td>\n",
       "      <td>381.0</td>\n",
       "      <td>111.0</td>\n",
       "    </tr>\n",
       "  </tbody>\n",
       "</table>\n",
       "</div>"
      ],
      "text/plain": [
       "          Date Product Region  Sales   Cost  Profit/Loss\n",
       "75  2023-03-17       D   West  492.0  396.0         96.0\n",
       "18  2023-01-19       C   East  127.0  161.0        -34.0\n",
       "108 2023-04-19       E  North  483.0   94.0        389.0\n",
       "47  2023-02-17       H   West  349.0  158.0        191.0\n",
       "6   2023-01-07       G   East  492.0  381.0        111.0"
      ]
     },
     "execution_count": 43,
     "metadata": {},
     "output_type": "execute_result"
    }
   ],
   "source": [
    "df.sample(5)"
   ]
  },
  {
   "cell_type": "code",
   "execution_count": 44,
   "id": "5aade390",
   "metadata": {},
   "outputs": [
    {
     "data": {
      "text/html": [
       "<div>\n",
       "<style scoped>\n",
       "    .dataframe tbody tr th:only-of-type {\n",
       "        vertical-align: middle;\n",
       "    }\n",
       "\n",
       "    .dataframe tbody tr th {\n",
       "        vertical-align: top;\n",
       "    }\n",
       "\n",
       "    .dataframe thead th {\n",
       "        text-align: right;\n",
       "    }\n",
       "</style>\n",
       "<table border=\"1\" class=\"dataframe\">\n",
       "  <thead>\n",
       "    <tr style=\"text-align: right;\">\n",
       "      <th></th>\n",
       "      <th>Profit/Loss</th>\n",
       "    </tr>\n",
       "    <tr>\n",
       "      <th>Product</th>\n",
       "      <th></th>\n",
       "    </tr>\n",
       "  </thead>\n",
       "  <tbody>\n",
       "    <tr>\n",
       "      <th>A</th>\n",
       "      <td>75.075158</td>\n",
       "    </tr>\n",
       "  </tbody>\n",
       "</table>\n",
       "</div>"
      ],
      "text/plain": [
       "         Profit/Loss\n",
       "Product             \n",
       "A          75.075158"
      ]
     },
     "execution_count": 44,
     "metadata": {},
     "output_type": "execute_result"
    }
   ],
   "source": [
    "# Question: After creating the 'Profit/Loss' column, what is the average 'Profit/Loss' for product 'A'?\n",
    "ProdA = df.groupby(by='Product')['Profit/Loss'].mean().head(1)\n",
    "pd.DataFrame(ProdA) # Convert it to a Data Frame"
   ]
  },
  {
   "cell_type": "code",
   "execution_count": 71,
   "id": "04aadc54",
   "metadata": {},
   "outputs": [
    {
     "data": {
      "text/html": [
       "<div>\n",
       "<style scoped>\n",
       "    .dataframe tbody tr th:only-of-type {\n",
       "        vertical-align: middle;\n",
       "    }\n",
       "\n",
       "    .dataframe tbody tr th {\n",
       "        vertical-align: top;\n",
       "    }\n",
       "\n",
       "    .dataframe thead th {\n",
       "        text-align: right;\n",
       "    }\n",
       "</style>\n",
       "<table border=\"1\" class=\"dataframe\">\n",
       "  <thead>\n",
       "    <tr style=\"text-align: right;\">\n",
       "      <th></th>\n",
       "      <th>Profit/Loss</th>\n",
       "    </tr>\n",
       "    <tr>\n",
       "      <th>Product</th>\n",
       "      <th></th>\n",
       "    </tr>\n",
       "  </thead>\n",
       "  <tbody>\n",
       "    <tr>\n",
       "      <th>E</th>\n",
       "      <td>98.382316</td>\n",
       "    </tr>\n",
       "    <tr>\n",
       "      <th>D</th>\n",
       "      <td>85.018526</td>\n",
       "    </tr>\n",
       "    <tr>\n",
       "      <th>A</th>\n",
       "      <td>75.075158</td>\n",
       "    </tr>\n",
       "    <tr>\n",
       "      <th>F</th>\n",
       "      <td>55.555158</td>\n",
       "    </tr>\n",
       "    <tr>\n",
       "      <th>B</th>\n",
       "      <td>55.121895</td>\n",
       "    </tr>\n",
       "    <tr>\n",
       "      <th>G</th>\n",
       "      <td>39.203789</td>\n",
       "    </tr>\n",
       "    <tr>\n",
       "      <th>H</th>\n",
       "      <td>30.235158</td>\n",
       "    </tr>\n",
       "    <tr>\n",
       "      <th>C</th>\n",
       "      <td>29.113263</td>\n",
       "    </tr>\n",
       "  </tbody>\n",
       "</table>\n",
       "</div>"
      ],
      "text/plain": [
       "         Profit/Loss\n",
       "Product             \n",
       "E          98.382316\n",
       "D          85.018526\n",
       "A          75.075158\n",
       "F          55.555158\n",
       "B          55.121895\n",
       "G          39.203789\n",
       "H          30.235158\n",
       "C          29.113263"
      ]
     },
     "execution_count": 71,
     "metadata": {},
     "output_type": "execute_result"
    }
   ],
   "source": [
    "ProdAvg = df.groupby(by='Product')['Profit/Loss'].mean().sort_values(ascending=False)\n",
    "pd.DataFrame(ProdAvg)"
   ]
  },
  {
   "cell_type": "code",
   "execution_count": 45,
   "id": "25cee86c-d9da-4b80-b876-1d4005f5fa0f",
   "metadata": {},
   "outputs": [
    {
     "data": {
      "text/html": [
       "<div>\n",
       "<style scoped>\n",
       "    .dataframe tbody tr th:only-of-type {\n",
       "        vertical-align: middle;\n",
       "    }\n",
       "\n",
       "    .dataframe tbody tr th {\n",
       "        vertical-align: top;\n",
       "    }\n",
       "\n",
       "    .dataframe thead th {\n",
       "        text-align: right;\n",
       "    }\n",
       "</style>\n",
       "<table border=\"1\" class=\"dataframe\">\n",
       "  <thead>\n",
       "    <tr style=\"text-align: right;\">\n",
       "      <th></th>\n",
       "      <th></th>\n",
       "      <th>Sales</th>\n",
       "      <th>Cost</th>\n",
       "      <th>Profit/Loss</th>\n",
       "    </tr>\n",
       "    <tr>\n",
       "      <th>Region</th>\n",
       "      <th>Product</th>\n",
       "      <th></th>\n",
       "      <th></th>\n",
       "      <th></th>\n",
       "    </tr>\n",
       "  </thead>\n",
       "  <tbody>\n",
       "    <tr>\n",
       "      <th rowspan=\"2\" valign=\"top\">East</th>\n",
       "      <th>C</th>\n",
       "      <td>6693.831579</td>\n",
       "      <td>5966.000000</td>\n",
       "      <td>727.831579</td>\n",
       "    </tr>\n",
       "    <tr>\n",
       "      <th>G</th>\n",
       "      <td>7532.000000</td>\n",
       "      <td>6551.905263</td>\n",
       "      <td>980.094737</td>\n",
       "    </tr>\n",
       "    <tr>\n",
       "      <th rowspan=\"2\" valign=\"top\">North</th>\n",
       "      <th>A</th>\n",
       "      <td>7610.831579</td>\n",
       "      <td>5733.952632</td>\n",
       "      <td>1876.878947</td>\n",
       "    </tr>\n",
       "    <tr>\n",
       "      <th>E</th>\n",
       "      <td>7905.415789</td>\n",
       "      <td>5445.857895</td>\n",
       "      <td>2459.557895</td>\n",
       "    </tr>\n",
       "    <tr>\n",
       "      <th rowspan=\"2\" valign=\"top\">South</th>\n",
       "      <th>B</th>\n",
       "      <td>6983.000000</td>\n",
       "      <td>5604.952632</td>\n",
       "      <td>1378.047368</td>\n",
       "    </tr>\n",
       "    <tr>\n",
       "      <th>F</th>\n",
       "      <td>7375.831579</td>\n",
       "      <td>5986.952632</td>\n",
       "      <td>1388.878947</td>\n",
       "    </tr>\n",
       "    <tr>\n",
       "      <th rowspan=\"2\" valign=\"top\">West</th>\n",
       "      <th>D</th>\n",
       "      <td>8302.415789</td>\n",
       "      <td>6176.952632</td>\n",
       "      <td>2125.463158</td>\n",
       "    </tr>\n",
       "    <tr>\n",
       "      <th>H</th>\n",
       "      <td>7079.831579</td>\n",
       "      <td>6323.952632</td>\n",
       "      <td>755.878947</td>\n",
       "    </tr>\n",
       "  </tbody>\n",
       "</table>\n",
       "</div>"
      ],
      "text/plain": [
       "                      Sales         Cost  Profit/Loss\n",
       "Region Product                                       \n",
       "East   C        6693.831579  5966.000000   727.831579\n",
       "       G        7532.000000  6551.905263   980.094737\n",
       "North  A        7610.831579  5733.952632  1876.878947\n",
       "       E        7905.415789  5445.857895  2459.557895\n",
       "South  B        6983.000000  5604.952632  1378.047368\n",
       "       F        7375.831579  5986.952632  1388.878947\n",
       "West   D        8302.415789  6176.952632  2125.463158\n",
       "       H        7079.831579  6323.952632   755.878947"
      ]
     },
     "execution_count": 45,
     "metadata": {},
     "output_type": "execute_result"
    }
   ],
   "source": [
    "# Get the overall summation of Sales, Cost and Profit/loss by Region and Product Category\n",
    "x = df.groupby(['Region', 'Product'])[['Sales','Cost','Profit/Loss']].sum()\n",
    "x"
   ]
  },
  {
   "cell_type": "code",
   "execution_count": 46,
   "id": "229fbbaf-d712-4a88-ba2e-1b8f90d33b1a",
   "metadata": {},
   "outputs": [
    {
     "data": {
      "text/html": [
       "<div>\n",
       "<style scoped>\n",
       "    .dataframe tbody tr th:only-of-type {\n",
       "        vertical-align: middle;\n",
       "    }\n",
       "\n",
       "    .dataframe tbody tr th {\n",
       "        vertical-align: top;\n",
       "    }\n",
       "\n",
       "    .dataframe thead th {\n",
       "        text-align: right;\n",
       "    }\n",
       "</style>\n",
       "<table border=\"1\" class=\"dataframe\">\n",
       "  <thead>\n",
       "    <tr style=\"text-align: right;\">\n",
       "      <th></th>\n",
       "      <th>Sales</th>\n",
       "      <th>Cost</th>\n",
       "      <th>Profit/Loss</th>\n",
       "    </tr>\n",
       "    <tr>\n",
       "      <th>Product</th>\n",
       "      <th></th>\n",
       "      <th></th>\n",
       "      <th></th>\n",
       "    </tr>\n",
       "  </thead>\n",
       "  <tbody>\n",
       "    <tr>\n",
       "      <th>A</th>\n",
       "      <td>7610.831579</td>\n",
       "      <td>5733.952632</td>\n",
       "      <td>1876.878947</td>\n",
       "    </tr>\n",
       "    <tr>\n",
       "      <th>B</th>\n",
       "      <td>6983.000000</td>\n",
       "      <td>5604.952632</td>\n",
       "      <td>1378.047368</td>\n",
       "    </tr>\n",
       "    <tr>\n",
       "      <th>C</th>\n",
       "      <td>6693.831579</td>\n",
       "      <td>5966.000000</td>\n",
       "      <td>727.831579</td>\n",
       "    </tr>\n",
       "    <tr>\n",
       "      <th>D</th>\n",
       "      <td>8302.415789</td>\n",
       "      <td>6176.952632</td>\n",
       "      <td>2125.463158</td>\n",
       "    </tr>\n",
       "    <tr>\n",
       "      <th>E</th>\n",
       "      <td>7905.415789</td>\n",
       "      <td>5445.857895</td>\n",
       "      <td>2459.557895</td>\n",
       "    </tr>\n",
       "    <tr>\n",
       "      <th>F</th>\n",
       "      <td>7375.831579</td>\n",
       "      <td>5986.952632</td>\n",
       "      <td>1388.878947</td>\n",
       "    </tr>\n",
       "    <tr>\n",
       "      <th>G</th>\n",
       "      <td>7532.000000</td>\n",
       "      <td>6551.905263</td>\n",
       "      <td>980.094737</td>\n",
       "    </tr>\n",
       "    <tr>\n",
       "      <th>H</th>\n",
       "      <td>7079.831579</td>\n",
       "      <td>6323.952632</td>\n",
       "      <td>755.878947</td>\n",
       "    </tr>\n",
       "  </tbody>\n",
       "</table>\n",
       "</div>"
      ],
      "text/plain": [
       "               Sales         Cost  Profit/Loss\n",
       "Product                                       \n",
       "A        7610.831579  5733.952632  1876.878947\n",
       "B        6983.000000  5604.952632  1378.047368\n",
       "C        6693.831579  5966.000000   727.831579\n",
       "D        8302.415789  6176.952632  2125.463158\n",
       "E        7905.415789  5445.857895  2459.557895\n",
       "F        7375.831579  5986.952632  1388.878947\n",
       "G        7532.000000  6551.905263   980.094737\n",
       "H        7079.831579  6323.952632   755.878947"
      ]
     },
     "execution_count": 46,
     "metadata": {},
     "output_type": "execute_result"
    }
   ],
   "source": [
    "# Get the overall summation of Sales, Cost and Profit/loss by Product\n",
    "y= df.groupby(['Product'])[['Sales','Cost','Profit/Loss']].sum()\n",
    "y"
   ]
  },
  {
   "cell_type": "code",
   "execution_count": 47,
   "id": "e22d82d3",
   "metadata": {},
   "outputs": [
    {
     "data": {
      "text/html": [
       "<div>\n",
       "<style scoped>\n",
       "    .dataframe tbody tr th:only-of-type {\n",
       "        vertical-align: middle;\n",
       "    }\n",
       "\n",
       "    .dataframe tbody tr th {\n",
       "        vertical-align: top;\n",
       "    }\n",
       "\n",
       "    .dataframe thead th {\n",
       "        text-align: right;\n",
       "    }\n",
       "</style>\n",
       "<table border=\"1\" class=\"dataframe\">\n",
       "  <thead>\n",
       "    <tr style=\"text-align: right;\">\n",
       "      <th></th>\n",
       "      <th>Profit/Loss</th>\n",
       "    </tr>\n",
       "    <tr>\n",
       "      <th>Product</th>\n",
       "      <th></th>\n",
       "    </tr>\n",
       "  </thead>\n",
       "  <tbody>\n",
       "    <tr>\n",
       "      <th>E</th>\n",
       "      <td>2459.557895</td>\n",
       "    </tr>\n",
       "    <tr>\n",
       "      <th>D</th>\n",
       "      <td>2125.463158</td>\n",
       "    </tr>\n",
       "    <tr>\n",
       "      <th>A</th>\n",
       "      <td>1876.878947</td>\n",
       "    </tr>\n",
       "    <tr>\n",
       "      <th>F</th>\n",
       "      <td>1388.878947</td>\n",
       "    </tr>\n",
       "    <tr>\n",
       "      <th>B</th>\n",
       "      <td>1378.047368</td>\n",
       "    </tr>\n",
       "    <tr>\n",
       "      <th>G</th>\n",
       "      <td>980.094737</td>\n",
       "    </tr>\n",
       "    <tr>\n",
       "      <th>H</th>\n",
       "      <td>755.878947</td>\n",
       "    </tr>\n",
       "    <tr>\n",
       "      <th>C</th>\n",
       "      <td>727.831579</td>\n",
       "    </tr>\n",
       "  </tbody>\n",
       "</table>\n",
       "</div>"
      ],
      "text/plain": [
       "         Profit/Loss\n",
       "Product             \n",
       "E        2459.557895\n",
       "D        2125.463158\n",
       "A        1876.878947\n",
       "F        1388.878947\n",
       "B        1378.047368\n",
       "G         980.094737\n",
       "H         755.878947\n",
       "C         727.831579"
      ]
     },
     "execution_count": 47,
     "metadata": {},
     "output_type": "execute_result"
    }
   ],
   "source": [
    "# Most profitable Product\n",
    "# Get the overall summation of Profit/loss by Product\n",
    "\n",
    "profitable_product = df.groupby(['Product'])[\n",
    "                        ['Profit/Loss']].sum().sort_values(\n",
    "                            ['Profit/Loss'], ascending=False)\n",
    "profitable_product"
   ]
  },
  {
   "cell_type": "code",
   "execution_count": 48,
   "id": "75b83fe1-b240-49fc-945d-d10bf7521df1",
   "metadata": {},
   "outputs": [
    {
     "data": {
      "text/html": [
       "<div>\n",
       "<style scoped>\n",
       "    .dataframe tbody tr th:only-of-type {\n",
       "        vertical-align: middle;\n",
       "    }\n",
       "\n",
       "    .dataframe tbody tr th {\n",
       "        vertical-align: top;\n",
       "    }\n",
       "\n",
       "    .dataframe thead th {\n",
       "        text-align: right;\n",
       "    }\n",
       "</style>\n",
       "<table border=\"1\" class=\"dataframe\">\n",
       "  <thead>\n",
       "    <tr style=\"text-align: right;\">\n",
       "      <th></th>\n",
       "      <th>Sales</th>\n",
       "      <th>Cost</th>\n",
       "      <th>Profit/Loss</th>\n",
       "    </tr>\n",
       "    <tr>\n",
       "      <th>Region</th>\n",
       "      <th></th>\n",
       "      <th></th>\n",
       "      <th></th>\n",
       "    </tr>\n",
       "  </thead>\n",
       "  <tbody>\n",
       "    <tr>\n",
       "      <th>East</th>\n",
       "      <td>14225.831579</td>\n",
       "      <td>12517.905263</td>\n",
       "      <td>1707.926316</td>\n",
       "    </tr>\n",
       "    <tr>\n",
       "      <th>North</th>\n",
       "      <td>15516.247368</td>\n",
       "      <td>11179.810526</td>\n",
       "      <td>4336.436842</td>\n",
       "    </tr>\n",
       "    <tr>\n",
       "      <th>South</th>\n",
       "      <td>14358.831579</td>\n",
       "      <td>11591.905263</td>\n",
       "      <td>2766.926316</td>\n",
       "    </tr>\n",
       "    <tr>\n",
       "      <th>West</th>\n",
       "      <td>15382.247368</td>\n",
       "      <td>12500.905263</td>\n",
       "      <td>2881.342105</td>\n",
       "    </tr>\n",
       "  </tbody>\n",
       "</table>\n",
       "</div>"
      ],
      "text/plain": [
       "               Sales          Cost  Profit/Loss\n",
       "Region                                         \n",
       "East    14225.831579  12517.905263  1707.926316\n",
       "North   15516.247368  11179.810526  4336.436842\n",
       "South   14358.831579  11591.905263  2766.926316\n",
       "West    15382.247368  12500.905263  2881.342105"
      ]
     },
     "execution_count": 48,
     "metadata": {},
     "output_type": "execute_result"
    }
   ],
   "source": [
    "# Get the overall summation of Sales, Cost and Profit/loss by Region\n",
    "x= df.groupby(['Region'])[['Sales',\n",
    "                           'Cost', 'Profit/Loss']].sum().sort_values(\n",
    "                               ['Region'], ascending=True)\n",
    "x"
   ]
  },
  {
   "cell_type": "code",
   "execution_count": 49,
   "id": "f0a04482",
   "metadata": {},
   "outputs": [
    {
     "data": {
      "text/html": [
       "<div>\n",
       "<style scoped>\n",
       "    .dataframe tbody tr th:only-of-type {\n",
       "        vertical-align: middle;\n",
       "    }\n",
       "\n",
       "    .dataframe tbody tr th {\n",
       "        vertical-align: top;\n",
       "    }\n",
       "\n",
       "    .dataframe thead th {\n",
       "        text-align: right;\n",
       "    }\n",
       "</style>\n",
       "<table border=\"1\" class=\"dataframe\">\n",
       "  <thead>\n",
       "    <tr style=\"text-align: right;\">\n",
       "      <th></th>\n",
       "      <th>Sales</th>\n",
       "      <th>Cost</th>\n",
       "      <th>Profit/Loss</th>\n",
       "    </tr>\n",
       "    <tr>\n",
       "      <th>Region</th>\n",
       "      <th></th>\n",
       "      <th></th>\n",
       "      <th></th>\n",
       "    </tr>\n",
       "  </thead>\n",
       "  <tbody>\n",
       "    <tr>\n",
       "      <th>North</th>\n",
       "      <td>15516.247368</td>\n",
       "      <td>11179.810526</td>\n",
       "      <td>4336.436842</td>\n",
       "    </tr>\n",
       "    <tr>\n",
       "      <th>West</th>\n",
       "      <td>15382.247368</td>\n",
       "      <td>12500.905263</td>\n",
       "      <td>2881.342105</td>\n",
       "    </tr>\n",
       "    <tr>\n",
       "      <th>South</th>\n",
       "      <td>14358.831579</td>\n",
       "      <td>11591.905263</td>\n",
       "      <td>2766.926316</td>\n",
       "    </tr>\n",
       "    <tr>\n",
       "      <th>East</th>\n",
       "      <td>14225.831579</td>\n",
       "      <td>12517.905263</td>\n",
       "      <td>1707.926316</td>\n",
       "    </tr>\n",
       "  </tbody>\n",
       "</table>\n",
       "</div>"
      ],
      "text/plain": [
       "               Sales          Cost  Profit/Loss\n",
       "Region                                         \n",
       "North   15516.247368  11179.810526  4336.436842\n",
       "West    15382.247368  12500.905263  2881.342105\n",
       "South   14358.831579  11591.905263  2766.926316\n",
       "East    14225.831579  12517.905263  1707.926316"
      ]
     },
     "execution_count": 49,
     "metadata": {},
     "output_type": "execute_result"
    }
   ],
   "source": [
    "# Get the overall summation of Sales, Cost and Profit/loss by Region\n",
    "x= df.groupby(['Region'])[['Sales', 'Cost', \n",
    "                           'Profit/Loss']].sum().sort_values(\n",
    "                               ['Sales'], ascending=False)\n",
    "x"
   ]
  },
  {
   "cell_type": "code",
   "execution_count": 50,
   "id": "7a5f2a7a-5356-4b2a-b811-022edc3b7b86",
   "metadata": {},
   "outputs": [
    {
     "data": {
      "text/html": [
       "<div>\n",
       "<style scoped>\n",
       "    .dataframe tbody tr th:only-of-type {\n",
       "        vertical-align: middle;\n",
       "    }\n",
       "\n",
       "    .dataframe tbody tr th {\n",
       "        vertical-align: top;\n",
       "    }\n",
       "\n",
       "    .dataframe thead th {\n",
       "        text-align: right;\n",
       "    }\n",
       "</style>\n",
       "<table border=\"1\" class=\"dataframe\">\n",
       "  <thead>\n",
       "    <tr style=\"text-align: right;\">\n",
       "      <th></th>\n",
       "      <th>Sales</th>\n",
       "    </tr>\n",
       "    <tr>\n",
       "      <th>Region</th>\n",
       "      <th></th>\n",
       "    </tr>\n",
       "  </thead>\n",
       "  <tbody>\n",
       "    <tr>\n",
       "      <th>East</th>\n",
       "      <td>14225.831579</td>\n",
       "    </tr>\n",
       "    <tr>\n",
       "      <th>North</th>\n",
       "      <td>15516.247368</td>\n",
       "    </tr>\n",
       "    <tr>\n",
       "      <th>South</th>\n",
       "      <td>14358.831579</td>\n",
       "    </tr>\n",
       "    <tr>\n",
       "      <th>West</th>\n",
       "      <td>15382.247368</td>\n",
       "    </tr>\n",
       "  </tbody>\n",
       "</table>\n",
       "</div>"
      ],
      "text/plain": [
       "               Sales\n",
       "Region              \n",
       "East    14225.831579\n",
       "North   15516.247368\n",
       "South   14358.831579\n",
       "West    15382.247368"
      ]
     },
     "execution_count": 50,
     "metadata": {},
     "output_type": "execute_result"
    }
   ],
   "source": [
    "# Get the overall summation of Sales by Region only\n",
    "overall_sales = df.groupby(by='Region')['Sales'].sum()\n",
    "pd.DataFrame(overall_sales)\n",
    "# overall_sales"
   ]
  },
  {
   "cell_type": "code",
   "execution_count": 51,
   "id": "109b380e-e841-4d3e-8409-3ae28947a4be",
   "metadata": {},
   "outputs": [
    {
     "data": {
      "text/html": [
       "<div>\n",
       "<style scoped>\n",
       "    .dataframe tbody tr th:only-of-type {\n",
       "        vertical-align: middle;\n",
       "    }\n",
       "\n",
       "    .dataframe tbody tr th {\n",
       "        vertical-align: top;\n",
       "    }\n",
       "\n",
       "    .dataframe thead th {\n",
       "        text-align: right;\n",
       "    }\n",
       "</style>\n",
       "<table border=\"1\" class=\"dataframe\">\n",
       "  <thead>\n",
       "    <tr style=\"text-align: right;\">\n",
       "      <th></th>\n",
       "      <th>Sales</th>\n",
       "    </tr>\n",
       "    <tr>\n",
       "      <th>Product</th>\n",
       "      <th></th>\n",
       "    </tr>\n",
       "  </thead>\n",
       "  <tbody>\n",
       "    <tr>\n",
       "      <th>D</th>\n",
       "      <td>8302.415789</td>\n",
       "    </tr>\n",
       "    <tr>\n",
       "      <th>E</th>\n",
       "      <td>7905.415789</td>\n",
       "    </tr>\n",
       "    <tr>\n",
       "      <th>A</th>\n",
       "      <td>7610.831579</td>\n",
       "    </tr>\n",
       "    <tr>\n",
       "      <th>G</th>\n",
       "      <td>7532.000000</td>\n",
       "    </tr>\n",
       "    <tr>\n",
       "      <th>F</th>\n",
       "      <td>7375.831579</td>\n",
       "    </tr>\n",
       "    <tr>\n",
       "      <th>H</th>\n",
       "      <td>7079.831579</td>\n",
       "    </tr>\n",
       "    <tr>\n",
       "      <th>B</th>\n",
       "      <td>6983.000000</td>\n",
       "    </tr>\n",
       "    <tr>\n",
       "      <th>C</th>\n",
       "      <td>6693.831579</td>\n",
       "    </tr>\n",
       "  </tbody>\n",
       "</table>\n",
       "</div>"
      ],
      "text/plain": [
       "               Sales\n",
       "Product             \n",
       "D        8302.415789\n",
       "E        7905.415789\n",
       "A        7610.831579\n",
       "G        7532.000000\n",
       "F        7375.831579\n",
       "H        7079.831579\n",
       "B        6983.000000\n",
       "C        6693.831579"
      ]
     },
     "execution_count": 51,
     "metadata": {},
     "output_type": "execute_result"
    }
   ],
   "source": [
    "# Get the overall summation of Sales by Product\n",
    "prod_sales = df.groupby(by='Product')['Sales'].sum()\n",
    "prod_sales = pd.DataFrame(prod_sales).sort_values(['Sales'], ascending=False)\n",
    "prod_sales"
   ]
  },
  {
   "cell_type": "markdown",
   "id": "2454d5ae",
   "metadata": {},
   "source": [
    "### Data Visualization:\n",
    "\n",
    "**Task**: Create a bar chart showing the total 'Sales' for each product across all regions.  \n",
    "**Question**: Which product has the highest total sales?  "
   ]
  },
  {
   "cell_type": "markdown",
   "id": "3c2399fd",
   "metadata": {},
   "source": [
    "#### Which Region has the highest Sales?"
   ]
  },
  {
   "cell_type": "code",
   "execution_count": 52,
   "id": "d788fc41",
   "metadata": {},
   "outputs": [
    {
     "data": {
      "image/png": "[encoded data removed]",
      "text/plain": [
       "<Figure size 1200x600 with 1 Axes>"
      ]
     },
     "metadata": {},
     "output_type": "display_data"
    }
   ],
   "source": [
    "# Total Sales per Region \n",
    "sns.set_style(style='darkgrid')  # Defining the initial style which will be obeyed all through the viz\n",
    "sns.set_theme(context='notebook',\n",
    "              style='darkgrid',\n",
    "              palette='deep',\n",
    "              color_codes=True)  # Defining the initial theme which will be obeyed all through the viz\n",
    "plt.figure(figsize=(12,6))\n",
    "region=df.groupby(by='Region')['Sales'].sum()\n",
    "\n",
    "region = region.plot.bar(width = 0.6)\n",
    "for i in region.patches: # Creating annotation i.e to display the figures\n",
    "    region.annotate(format(i.get_height(), '.0f'),\n",
    "                  (i.get_x() + i.get_width() / 2,\n",
    "                 i.get_height()), ha='center', va='center',\n",
    "                 size=15, xytext=(0, 5),\n",
    "                 textcoords='offset points')\n"
   ]
  },
  {
   "cell_type": "markdown",
   "id": "f0d71682",
   "metadata": {},
   "source": [
    "#### Analysis shows that North has the highest Sales turnout with approx. 15516."
   ]
  },
  {
   "cell_type": "code",
   "execution_count": 53,
   "id": "685f46ed",
   "metadata": {},
   "outputs": [
    {
     "name": "stdout",
     "output_type": "stream",
     "text": [
      "Product with the highest sales:                   D\n",
      "Sales  8302.415789\n"
     ]
    },
    {
     "data": {
      "image/png": "[encoded data removed]",
      "text/plain": [
       "<Figure size 1200x600 with 1 Axes>"
      ]
     },
     "metadata": {},
     "output_type": "display_data"
    }
   ],
   "source": [
    "# Task: Create a bar chart showing the total 'Sales' for each product across all regions.  \n",
    "# Question: Which product has the highest total sales?  \n",
    "\n",
    "plt.figure(figsize=(12,6)) # To set the visualization frame\n",
    "\n",
    "prodSales = sns.barplot(data=prod_sales,\n",
    "                        x='Product',\n",
    "                        y='Sales', \n",
    "                        width = 0.7,\n",
    "                        hue= 'Product', \n",
    "                        palette='dark:cornflowerblue') # configuring the plot characteristics\n",
    "\n",
    "for i in prodSales.patches:  # Configure annotation i.e to display the figures\n",
    "    prodSales.annotate(format(i.get_height(), '.0f'),\n",
    "                  (i.get_x() + i.get_width() / 2,\n",
    "                 i.get_height()), ha='center', va='center',\n",
    "                 size=15, xytext=(0, 5),\n",
    "                 textcoords='offset points')\n",
    "    \n",
    "plt.title('Product Sales Across Regions') # Plot Title\n",
    "print(f'Product with the highest sales: ', (pd.DataFrame(prod_sales.iloc[0]))); # Viz summary"
   ]
  },
  {
   "cell_type": "markdown",
   "id": "1efd3c26",
   "metadata": {},
   "source": [
    "#### Product D has the highest sales across all regions"
   ]
  },
  {
   "cell_type": "markdown",
   "id": "cd7233f4",
   "metadata": {},
   "source": [
    "### Profit Analysis:\n",
    "\n",
    "**Task**: Analyze the 'Profit/Loss' column to determine the most profitable product.  \n",
    "**Question**: Which product has the highest average 'Profit/Loss' across all regions?  "
   ]
  },
  {
   "cell_type": "code",
   "execution_count": 54,
   "id": "dd5c6fe6",
   "metadata": {},
   "outputs": [
    {
     "data": {
      "text/html": [
       "<div>\n",
       "<style scoped>\n",
       "    .dataframe tbody tr th:only-of-type {\n",
       "        vertical-align: middle;\n",
       "    }\n",
       "\n",
       "    .dataframe tbody tr th {\n",
       "        vertical-align: top;\n",
       "    }\n",
       "\n",
       "    .dataframe thead th {\n",
       "        text-align: right;\n",
       "    }\n",
       "</style>\n",
       "<table border=\"1\" class=\"dataframe\">\n",
       "  <thead>\n",
       "    <tr style=\"text-align: right;\">\n",
       "      <th></th>\n",
       "      <th>Profit/Loss</th>\n",
       "    </tr>\n",
       "    <tr>\n",
       "      <th>Product</th>\n",
       "      <th></th>\n",
       "    </tr>\n",
       "  </thead>\n",
       "  <tbody>\n",
       "    <tr>\n",
       "      <th>E</th>\n",
       "      <td>2459.557895</td>\n",
       "    </tr>\n",
       "    <tr>\n",
       "      <th>D</th>\n",
       "      <td>2125.463158</td>\n",
       "    </tr>\n",
       "    <tr>\n",
       "      <th>A</th>\n",
       "      <td>1876.878947</td>\n",
       "    </tr>\n",
       "    <tr>\n",
       "      <th>F</th>\n",
       "      <td>1388.878947</td>\n",
       "    </tr>\n",
       "    <tr>\n",
       "      <th>B</th>\n",
       "      <td>1378.047368</td>\n",
       "    </tr>\n",
       "    <tr>\n",
       "      <th>G</th>\n",
       "      <td>980.094737</td>\n",
       "    </tr>\n",
       "    <tr>\n",
       "      <th>H</th>\n",
       "      <td>755.878947</td>\n",
       "    </tr>\n",
       "    <tr>\n",
       "      <th>C</th>\n",
       "      <td>727.831579</td>\n",
       "    </tr>\n",
       "  </tbody>\n",
       "</table>\n",
       "</div>"
      ],
      "text/plain": [
       "         Profit/Loss\n",
       "Product             \n",
       "E        2459.557895\n",
       "D        2125.463158\n",
       "A        1876.878947\n",
       "F        1388.878947\n",
       "B        1378.047368\n",
       "G         980.094737\n",
       "H         755.878947\n",
       "C         727.831579"
      ]
     },
     "execution_count": 54,
     "metadata": {},
     "output_type": "execute_result"
    }
   ],
   "source": [
    "MostProfitableProduct = profitable_product\n",
    "profitable_product"
   ]
  },
  {
   "cell_type": "code",
   "execution_count": 55,
   "id": "46f5e851",
   "metadata": {},
   "outputs": [
    {
     "data": {
      "text/html": [
       "<div>\n",
       "<style scoped>\n",
       "    .dataframe tbody tr th:only-of-type {\n",
       "        vertical-align: middle;\n",
       "    }\n",
       "\n",
       "    .dataframe tbody tr th {\n",
       "        vertical-align: top;\n",
       "    }\n",
       "\n",
       "    .dataframe thead th {\n",
       "        text-align: right;\n",
       "    }\n",
       "</style>\n",
       "<table border=\"1\" class=\"dataframe\">\n",
       "  <thead>\n",
       "    <tr style=\"text-align: right;\">\n",
       "      <th></th>\n",
       "      <th>Profit/Loss</th>\n",
       "    </tr>\n",
       "    <tr>\n",
       "      <th>Product</th>\n",
       "      <th></th>\n",
       "    </tr>\n",
       "  </thead>\n",
       "  <tbody>\n",
       "    <tr>\n",
       "      <th>E</th>\n",
       "      <td>2459.557895</td>\n",
       "    </tr>\n",
       "  </tbody>\n",
       "</table>\n",
       "</div>"
      ],
      "text/plain": [
       "         Profit/Loss\n",
       "Product             \n",
       "E        2459.557895"
      ]
     },
     "execution_count": 55,
     "metadata": {},
     "output_type": "execute_result"
    }
   ],
   "source": [
    "# The most profitable product\n",
    "profitable_product.head(1)"
   ]
  },
  {
   "cell_type": "code",
   "execution_count": 67,
   "id": "fe7f28ba",
   "metadata": {},
   "outputs": [
    {
     "data": {
      "text/html": [
       "<div>\n",
       "<style scoped>\n",
       "    .dataframe tbody tr th:only-of-type {\n",
       "        vertical-align: middle;\n",
       "    }\n",
       "\n",
       "    .dataframe tbody tr th {\n",
       "        vertical-align: top;\n",
       "    }\n",
       "\n",
       "    .dataframe thead th {\n",
       "        text-align: right;\n",
       "    }\n",
       "</style>\n",
       "<table border=\"1\" class=\"dataframe\">\n",
       "  <thead>\n",
       "    <tr style=\"text-align: right;\">\n",
       "      <th></th>\n",
       "      <th>Profit/Loss</th>\n",
       "    </tr>\n",
       "    <tr>\n",
       "      <th>Product</th>\n",
       "      <th></th>\n",
       "    </tr>\n",
       "  </thead>\n",
       "  <tbody>\n",
       "    <tr>\n",
       "      <th>E</th>\n",
       "      <td>2459.557895</td>\n",
       "    </tr>\n",
       "    <tr>\n",
       "      <th>D</th>\n",
       "      <td>2125.463158</td>\n",
       "    </tr>\n",
       "    <tr>\n",
       "      <th>A</th>\n",
       "      <td>1876.878947</td>\n",
       "    </tr>\n",
       "    <tr>\n",
       "      <th>F</th>\n",
       "      <td>1388.878947</td>\n",
       "    </tr>\n",
       "    <tr>\n",
       "      <th>B</th>\n",
       "      <td>1378.047368</td>\n",
       "    </tr>\n",
       "    <tr>\n",
       "      <th>G</th>\n",
       "      <td>980.094737</td>\n",
       "    </tr>\n",
       "    <tr>\n",
       "      <th>H</th>\n",
       "      <td>755.878947</td>\n",
       "    </tr>\n",
       "    <tr>\n",
       "      <th>C</th>\n",
       "      <td>727.831579</td>\n",
       "    </tr>\n",
       "  </tbody>\n",
       "</table>\n",
       "</div>"
      ],
      "text/plain": [
       "         Profit/Loss\n",
       "Product             \n",
       "E        2459.557895\n",
       "D        2125.463158\n",
       "A        1876.878947\n",
       "F        1388.878947\n",
       "B        1378.047368\n",
       "G         980.094737\n",
       "H         755.878947\n",
       "C         727.831579"
      ]
     },
     "execution_count": 67,
     "metadata": {},
     "output_type": "execute_result"
    }
   ],
   "source": [
    "MostProfitableAvg = profitable_product.mean()\n",
    "profitable_product"
   ]
  },
  {
   "cell_type": "code",
   "execution_count": 74,
   "id": "71fa200f",
   "metadata": {},
   "outputs": [],
   "source": [
    "ProdAvg = pd.DataFrame(ProdAvg)"
   ]
  },
  {
   "cell_type": "code",
   "execution_count": 76,
   "id": "ae6c339b",
   "metadata": {},
   "outputs": [
    {
     "data": {
      "image/png": "[encoded data removed]",
      "text/plain": [
       "<Figure size 1200x600 with 1 Axes>"
      ]
     },
     "metadata": {},
     "output_type": "display_data"
    }
   ],
   "source": [
    "# With barplot, it is easier to show profitability from highest to lowest\n",
    "\n",
    "plt.figure(figsize=(12,6)) # To set the visualization frame\n",
    "\n",
    "MostProfitableProduct = sns.barplot(data = ProdAvg,\n",
    "                                    x='Product',y='Profit/Loss', \n",
    "                                    width = 0.7,\n",
    "                                    hue = 'Product', \n",
    "                                    palette ='dark:steelblue') # configuring the plot characteristics\n",
    "\n",
    "for i in MostProfitableProduct.patches: # Configure annotation i.e to display the figures\n",
    "    MostProfitableProduct.annotate(format(i.get_height(), '.0f'),\n",
    "                 (i.get_x() + i.get_width() / 2,\n",
    "                 i.get_height()), ha='center', va='center',\n",
    "                 size=15, xytext=(0, 5),\n",
    "                 textcoords='offset points')\n",
    "plt.title('Product Profit/Loss Average'); # Plot Title"
   ]
  },
  {
   "cell_type": "code",
   "execution_count": 56,
   "id": "60ee86d4",
   "metadata": {},
   "outputs": [
    {
     "data": {
      "image/png": "[encoded data removed]",
      "text/plain": [
       "<Figure size 1200x600 with 1 Axes>"
      ]
     },
     "metadata": {},
     "output_type": "display_data"
    }
   ],
   "source": [
    "# With barplot, it is easier to show profitability from highest to lowest\n",
    "\n",
    "plt.figure(figsize=(12,6)) # To set the visualization frame\n",
    "\n",
    "MostProfitableProduct = sns.barplot(data = profitable_product,\n",
    "                                    x='Product',y='Profit/Loss', \n",
    "                                    width = 0.7,\n",
    "                                    hue = 'Product', \n",
    "                                    palette ='dark:steelblue') # configuring the plot characteristics\n",
    "\n",
    "for i in MostProfitableProduct.patches: # Configure annotation i.e to display the figures\n",
    "    MostProfitableProduct.annotate(format(i.get_height(), '.0f'),\n",
    "                 (i.get_x() + i.get_width() / 2,\n",
    "                 i.get_height()), ha='center', va='center',\n",
    "                 size=15, xytext=(0, 5),\n",
    "                 textcoords='offset points')\n",
    "plt.title('Product Profit/Loss'); # Plot Title"
   ]
  },
  {
   "cell_type": "markdown",
   "id": "44363cb2",
   "metadata": {},
   "source": [
    "#### In the above, Product **E** has the highest Profit Margin of approx. 2460 (2459.557895) as well as the highest average."
   ]
  },
  {
   "cell_type": "markdown",
   "id": "2e94af80",
   "metadata": {},
   "source": [
    "### Time Series Analysis:\n",
    "\n",
    "**Task**: Plot the sales trends over time for all products.  \n",
    "**Question**: Identify any observable trends or seasonality in the sales data.  "
   ]
  },
  {
   "cell_type": "code",
   "execution_count": 57,
   "id": "17004dd7",
   "metadata": {},
   "outputs": [
    {
     "data": {
      "application/vnd.plotly.v1+json": {
       "config": {
        "plotlyServerURL": "https://plot.ly"
       },
       "data": [
        {
         "hovertemplate": "Order Date=%{x}<br>Monthly Sales=%{y}<extra></extra>",
         "legendgroup": "",
         "line": {
          "color": "#636efa",
          "dash": "solid"
         },
         "marker": {
          "symbol": "circle"
         },
         "mode": "lines",
         "name": "",
         "orientation": "v",
         "showlegend": false,
         "type": "scatter",
         "x": [
          "2023-01-01T00:00:00",
          "2023-01-02T00:00:00",
          "2023-01-03T00:00:00",
          "2023-01-04T00:00:00",
          "2023-01-05T00:00:00",
          "2023-01-06T00:00:00",
          "2023-01-07T00:00:00",
          "2023-01-08T00:00:00",
          "2023-01-09T00:00:00",
          "2023-01-10T00:00:00",
          "2023-01-11T00:00:00",
          "2023-01-12T00:00:00",
          "2023-01-13T00:00:00",
          "2023-01-14T00:00:00",
          "2023-01-15T00:00:00",
          "2023-01-16T00:00:00",
          "2023-01-17T00:00:00",
          "2023-01-18T00:00:00",
          "2023-01-19T00:00:00",
          "2023-01-20T00:00:00",
          "2023-01-21T00:00:00",
          "2023-01-22T00:00:00",
          "2023-01-23T00:00:00",
          "2023-01-24T00:00:00",
          "2023-01-25T00:00:00",
          "2023-01-26T00:00:00",
          "2023-01-27T00:00:00",
          "2023-01-28T00:00:00",
          "2023-01-29T00:00:00",
          "2023-01-30T00:00:00",
          "2023-01-31T00:00:00",
          "2023-02-01T00:00:00",
          "2023-02-02T00:00:00",
          "2023-02-03T00:00:00",
          "2023-02-04T00:00:00",
          "2023-02-05T00:00:00",
          "2023-02-06T00:00:00",
          "2023-02-07T00:00:00",
          "2023-02-08T00:00:00",
          "2023-02-09T00:00:00",
          "2023-02-10T00:00:00",
          "2023-02-11T00:00:00",
          "2023-02-12T00:00:00",
          "2023-02-13T00:00:00",
          "2023-02-14T00:00:00",
          "2023-02-15T00:00:00",
          "2023-02-16T00:00:00",
          "2023-02-17T00:00:00",
          "2023-02-18T00:00:00",
          "2023-02-19T00:00:00",
          "2023-02-20T00:00:00",
          "2023-02-21T00:00:00",
          "2023-02-22T00:00:00",
          "2023-02-23T00:00:00",
          "2023-02-24T00:00:00",
          "2023-02-25T00:00:00",
          "2023-02-26T00:00:00",
          "2023-02-27T00:00:00",
          "2023-02-28T00:00:00",
          "2023-03-01T00:00:00",
          "2023-03-02T00:00:00",
          "2023-03-03T00:00:00",
          "2023-03-04T00:00:00",
          "2023-03-05T00:00:00",
          "2023-03-06T00:00:00",
          "2023-03-07T00:00:00",
          "2023-03-08T00:00:00",
          "2023-03-09T00:00:00",
          "2023-03-10T00:00:00",
          "2023-03-11T00:00:00",
          "2023-03-12T00:00:00",
          "2023-03-13T00:00:00",
          "2023-03-14T00:00:00",
          "2023-03-15T00:00:00",
          "2023-03-16T00:00:00",
          "2023-03-17T00:00:00",
          "2023-03-18T00:00:00",
          "2023-03-19T00:00:00",
          "2023-03-20T00:00:00",
          "2023-03-21T00:00:00",
          "2023-03-22T00:00:00",
          "2023-03-23T00:00:00",
          "2023-03-24T00:00:00",
          "2023-03-25T00:00:00",
          "2023-03-26T00:00:00",
          "2023-03-27T00:00:00",
          "2023-03-28T00:00:00",
          "2023-03-29T00:00:00",
          "2023-03-30T00:00:00",
          "2023-03-31T00:00:00",
          "2023-04-01T00:00:00",
          "2023-04-02T00:00:00",
          "2023-04-03T00:00:00",
          "2023-04-04T00:00:00",
          "2023-04-05T00:00:00",
          "2023-04-06T00:00:00",
          "2023-04-07T00:00:00",
          "2023-04-08T00:00:00",
          "2023-04-09T00:00:00",
          "2023-04-10T00:00:00",
          "2023-04-11T00:00:00",
          "2023-04-12T00:00:00",
          "2023-04-13T00:00:00",
          "2023-04-14T00:00:00",
          "2023-04-15T00:00:00",
          "2023-04-16T00:00:00",
          "2023-04-17T00:00:00",
          "2023-04-18T00:00:00",
          "2023-04-19T00:00:00",
          "2023-04-20T00:00:00",
          "2023-04-21T00:00:00",
          "2023-04-22T00:00:00",
          "2023-04-23T00:00:00",
          "2023-04-24T00:00:00",
          "2023-04-25T00:00:00",
          "2023-04-26T00:00:00",
          "2023-04-27T00:00:00",
          "2023-04-28T00:00:00",
          "2023-04-29T00:00:00",
          "2023-04-30T00:00:00",
          "2023-05-01T00:00:00",
          "2023-05-02T00:00:00",
          "2023-05-03T00:00:00",
          "2023-05-04T00:00:00",
          "2023-05-05T00:00:00",
          "2023-05-06T00:00:00",
          "2023-05-07T00:00:00",
          "2023-05-08T00:00:00",
          "2023-05-09T00:00:00",
          "2023-05-10T00:00:00",
          "2023-05-11T00:00:00",
          "2023-05-12T00:00:00",
          "2023-05-13T00:00:00",
          "2023-05-14T00:00:00",
          "2023-05-15T00:00:00",
          "2023-05-16T00:00:00",
          "2023-05-17T00:00:00",
          "2023-05-18T00:00:00",
          "2023-05-19T00:00:00",
          "2023-05-20T00:00:00",
          "2023-05-21T00:00:00",
          "2023-05-22T00:00:00",
          "2023-05-23T00:00:00",
          "2023-05-24T00:00:00",
          "2023-05-25T00:00:00",
          "2023-05-26T00:00:00",
          "2023-05-27T00:00:00",
          "2023-05-28T00:00:00",
          "2023-05-29T00:00:00",
          "2023-05-30T00:00:00",
          "2023-05-31T00:00:00",
          "2023-06-01T00:00:00",
          "2023-06-02T00:00:00",
          "2023-06-03T00:00:00",
          "2023-06-04T00:00:00",
          "2023-06-05T00:00:00",
          "2023-06-06T00:00:00",
          "2023-06-07T00:00:00",
          "2023-06-08T00:00:00",
          "2023-06-09T00:00:00",
          "2023-06-10T00:00:00",
          "2023-06-11T00:00:00",
          "2023-06-12T00:00:00",
          "2023-06-13T00:00:00",
          "2023-06-14T00:00:00",
          "2023-06-15T00:00:00",
          "2023-06-16T00:00:00",
          "2023-06-17T00:00:00",
          "2023-06-18T00:00:00",
          "2023-06-19T00:00:00",
          "2023-06-20T00:00:00",
          "2023-06-21T00:00:00",
          "2023-06-22T00:00:00",
          "2023-06-23T00:00:00",
          "2023-06-24T00:00:00",
          "2023-06-25T00:00:00",
          "2023-06-26T00:00:00",
          "2023-06-27T00:00:00",
          "2023-06-28T00:00:00",
          "2023-06-29T00:00:00",
          "2023-06-30T00:00:00",
          "2023-07-01T00:00:00",
          "2023-07-02T00:00:00",
          "2023-07-03T00:00:00",
          "2023-07-04T00:00:00",
          "2023-07-05T00:00:00",
          "2023-07-06T00:00:00",
          "2023-07-07T00:00:00",
          "2023-07-08T00:00:00",
          "2023-07-09T00:00:00",
          "2023-07-10T00:00:00",
          "2023-07-11T00:00:00",
          "2023-07-12T00:00:00",
          "2023-07-13T00:00:00",
          "2023-07-14T00:00:00",
          "2023-07-15T00:00:00",
          "2023-07-16T00:00:00",
          "2023-07-17T00:00:00",
          "2023-07-18T00:00:00",
          "2023-07-19T00:00:00"
         ],
         "xaxis": "x",
         "y": [
          473,
          232,
          400,
          456,
          458,
          184,
          492,
          246,
          114,
          352,
          145,
          193,
          390,
          483,
          108,
          268,
          233,
          467,
          127,
          184,
          262,
          129,
          310,
          297.4157894736842,
          394,
          221,
          375,
          294,
          107,
          255,
          459,
          123,
          338,
          379,
          461,
          239,
          497,
          152,
          216,
          459,
          147,
          353,
          213,
          229,
          315,
          183,
          414,
          349,
          160,
          148,
          193,
          421,
          193,
          249,
          208,
          153,
          493,
          440,
          245,
          408,
          487,
          215,
          200,
          495,
          352,
          196,
          297.4157894736842,
          490,
          435,
          297.4157894736842,
          445,
          281,
          180,
          188,
          117,
          492,
          334,
          418,
          206,
          325,
          105,
          465,
          105,
          426,
          413,
          290,
          169,
          314,
          356,
          162,
          297.4157894736842,
          205,
          196,
          163,
          279,
          299,
          297.4157894736842,
          389,
          268,
          312,
          348,
          284,
          243,
          121,
          360,
          168,
          183,
          292,
          483,
          492,
          472,
          116,
          389,
          377,
          298,
          476,
          134,
          394,
          265,
          330,
          398,
          170,
          347,
          283,
          200,
          193,
          312,
          291,
          482,
          111,
          204,
          326,
          242,
          391,
          164,
          119,
          109,
          295,
          275,
          414,
          297.4157894736842,
          349,
          378,
          332,
          395,
          229,
          119,
          373,
          341,
          218,
          422,
          481,
          144,
          124,
          192,
          297.4157894736842,
          153,
          297.4157894736842,
          164,
          172,
          297.4157894736842,
          357,
          458,
          253,
          100,
          391,
          387,
          459,
          430,
          106,
          381,
          314,
          241,
          265,
          311,
          327,
          334,
          443,
          205,
          372,
          352,
          138,
          108,
          138,
          204,
          218,
          307,
          176,
          478,
          448,
          323,
          297.4157894736842,
          426,
          393,
          481,
          377,
          449,
          497,
          477,
          287
         ],
         "yaxis": "y"
        }
       ],
       "layout": {
        "legend": {
         "tracegroupgap": 0
        },
        "template": {
         "data": {
          "bar": [
           {
            "error_x": {
             "color": "#2a3f5f"
            },
            "error_y": {
             "color": "#2a3f5f"
            },
            "marker": {
             "line": {
              "color": "#E5ECF6",
              "width": 0.5
             },
             "pattern": {
              "fillmode": "overlay",
              "size": 10,
              "solidity": 0.2
             }
            },
            "type": "bar"
           }
          ],
          "barpolar": [
           {
            "marker": {
             "line": {
              "color": "#E5ECF6",
              "width": 0.5
             },
             "pattern": {
              "fillmode": "overlay",
              "size": 10,
              "solidity": 0.2
             }
            },
            "type": "barpolar"
           }
          ],
          "carpet": [
           {
            "aaxis": {
             "endlinecolor": "#2a3f5f",
             "gridcolor": "white",
             "linecolor": "white",
             "minorgridcolor": "white",
             "startlinecolor": "#2a3f5f"
            },
            "baxis": {
             "endlinecolor": "#2a3f5f",
             "gridcolor": "white",
             "linecolor": "white",
             "minorgridcolor": "white",
             "startlinecolor": "#2a3f5f"
            },
            "type": "carpet"
           }
          ],
          "choropleth": [
           {
            "colorbar": {
             "outlinewidth": 0,
             "ticks": ""
            },
            "type": "choropleth"
           }
          ],
          "contour": [
           {
            "colorbar": {
             "outlinewidth": 0,
             "ticks": ""
            },
            "colorscale": [
             [
              0,
              "#0d0887"
             ],
             [
              0.1111111111111111,
              "#46039f"
             ],
             [
              0.2222222222222222,
              "#7201a8"
             ],
             [
              0.3333333333333333,
              "#9c179e"
             ],
             [
              0.4444444444444444,
              "#bd3786"
             ],
             [
              0.5555555555555556,
              "#d8576b"
             ],
             [
              0.6666666666666666,
              "#ed7953"
             ],
             [
              0.7777777777777778,
              "#fb9f3a"
             ],
             [
              0.8888888888888888,
              "#fdca26"
             ],
             [
              1,
              "#f0f921"
             ]
            ],
            "type": "contour"
           }
          ],
          "contourcarpet": [
           {
            "colorbar": {
             "outlinewidth": 0,
             "ticks": ""
            },
            "type": "contourcarpet"
           }
          ],
          "heatmap": [
           {
            "colorbar": {
             "outlinewidth": 0,
             "ticks": ""
            },
            "colorscale": [
             [
              0,
              "#0d0887"
             ],
             [
              0.1111111111111111,
              "#46039f"
             ],
             [
              0.2222222222222222,
              "#7201a8"
             ],
             [
              0.3333333333333333,
              "#9c179e"
             ],
             [
              0.4444444444444444,
              "#bd3786"
             ],
             [
              0.5555555555555556,
              "#d8576b"
             ],
             [
              0.6666666666666666,
              "#ed7953"
             ],
             [
              0.7777777777777778,
              "#fb9f3a"
             ],
             [
              0.8888888888888888,
              "#fdca26"
             ],
             [
              1,
              "#f0f921"
             ]
            ],
            "type": "heatmap"
           }
          ],
          "heatmapgl": [
           {
            "colorbar": {
             "outlinewidth": 0,
             "ticks": ""
            },
            "colorscale": [
             [
              0,
              "#0d0887"
             ],
             [
              0.1111111111111111,
              "#46039f"
             ],
             [
              0.2222222222222222,
              "#7201a8"
             ],
             [
              0.3333333333333333,
              "#9c179e"
             ],
             [
              0.4444444444444444,
              "#bd3786"
             ],
             [
              0.5555555555555556,
              "#d8576b"
             ],
             [
              0.6666666666666666,
              "#ed7953"
             ],
             [
              0.7777777777777778,
              "#fb9f3a"
             ],
             [
              0.8888888888888888,
              "#fdca26"
             ],
             [
              1,
              "#f0f921"
             ]
            ],
            "type": "heatmapgl"
           }
          ],
          "histogram": [
           {
            "marker": {
             "pattern": {
              "fillmode": "overlay",
              "size": 10,
              "solidity": 0.2
             }
            },
            "type": "histogram"
           }
          ],
          "histogram2d": [
           {
            "colorbar": {
             "outlinewidth": 0,
             "ticks": ""
            },
            "colorscale": [
             [
              0,
              "#0d0887"
             ],
             [
              0.1111111111111111,
              "#46039f"
             ],
             [
              0.2222222222222222,
              "#7201a8"
             ],
             [
              0.3333333333333333,
              "#9c179e"
             ],
             [
              0.4444444444444444,
              "#bd3786"
             ],
             [
              0.5555555555555556,
              "#d8576b"
             ],
             [
              0.6666666666666666,
              "#ed7953"
             ],
             [
              0.7777777777777778,
              "#fb9f3a"
             ],
             [
              0.8888888888888888,
              "#fdca26"
             ],
             [
              1,
              "#f0f921"
             ]
            ],
            "type": "histogram2d"
           }
          ],
          "histogram2dcontour": [
           {
            "colorbar": {
             "outlinewidth": 0,
             "ticks": ""
            },
            "colorscale": [
             [
              0,
              "#0d0887"
             ],
             [
              0.1111111111111111,
              "#46039f"
             ],
             [
              0.2222222222222222,
              "#7201a8"
             ],
             [
              0.3333333333333333,
              "#9c179e"
             ],
             [
              0.4444444444444444,
              "#bd3786"
             ],
             [
              0.5555555555555556,
              "#d8576b"
             ],
             [
              0.6666666666666666,
              "#ed7953"
             ],
             [
              0.7777777777777778,
              "#fb9f3a"
             ],
             [
              0.8888888888888888,
              "#fdca26"
             ],
             [
              1,
              "#f0f921"
             ]
            ],
            "type": "histogram2dcontour"
           }
          ],
          "mesh3d": [
           {
            "colorbar": {
             "outlinewidth": 0,
             "ticks": ""
            },
            "type": "mesh3d"
           }
          ],
          "parcoords": [
           {
            "line": {
             "colorbar": {
              "outlinewidth": 0,
              "ticks": ""
             }
            },
            "type": "parcoords"
           }
          ],
          "pie": [
           {
            "automargin": true,
            "type": "pie"
           }
          ],
          "scatter": [
           {
            "fillpattern": {
             "fillmode": "overlay",
             "size": 10,
             "solidity": 0.2
            },
            "type": "scatter"
           }
          ],
          "scatter3d": [
           {
            "line": {
             "colorbar": {
              "outlinewidth": 0,
              "ticks": ""
             }
            },
            "marker": {
             "colorbar": {
              "outlinewidth": 0,
              "ticks": ""
             }
            },
            "type": "scatter3d"
           }
          ],
          "scattercarpet": [
           {
            "marker": {
             "colorbar": {
              "outlinewidth": 0,
              "ticks": ""
             }
            },
            "type": "scattercarpet"
           }
          ],
          "scattergeo": [
           {
            "marker": {
             "colorbar": {
              "outlinewidth": 0,
              "ticks": ""
             }
            },
            "type": "scattergeo"
           }
          ],
          "scattergl": [
           {
            "marker": {
             "colorbar": {
              "outlinewidth": 0,
              "ticks": ""
             }
            },
            "type": "scattergl"
           }
          ],
          "scattermapbox": [
           {
            "marker": {
             "colorbar": {
              "outlinewidth": 0,
              "ticks": ""
             }
            },
            "type": "scattermapbox"
           }
          ],
          "scatterpolar": [
           {
            "marker": {
             "colorbar": {
              "outlinewidth": 0,
              "ticks": ""
             }
            },
            "type": "scatterpolar"
           }
          ],
          "scatterpolargl": [
           {
            "marker": {
             "colorbar": {
              "outlinewidth": 0,
              "ticks": ""
             }
            },
            "type": "scatterpolargl"
           }
          ],
          "scatterternary": [
           {
            "marker": {
             "colorbar": {
              "outlinewidth": 0,
              "ticks": ""
             }
            },
            "type": "scatterternary"
           }
          ],
          "surface": [
           {
            "colorbar": {
             "outlinewidth": 0,
             "ticks": ""
            },
            "colorscale": [
             [
              0,
              "#0d0887"
             ],
             [
              0.1111111111111111,
              "#46039f"
             ],
             [
              0.2222222222222222,
              "#7201a8"
             ],
             [
              0.3333333333333333,
              "#9c179e"
             ],
             [
              0.4444444444444444,
              "#bd3786"
             ],
             [
              0.5555555555555556,
              "#d8576b"
             ],
             [
              0.6666666666666666,
              "#ed7953"
             ],
             [
              0.7777777777777778,
              "#fb9f3a"
             ],
             [
              0.8888888888888888,
              "#fdca26"
             ],
             [
              1,
              "#f0f921"
             ]
            ],
            "type": "surface"
           }
          ],
          "table": [
           {
            "cells": {
             "fill": {
              "color": "#EBF0F8"
             },
             "line": {
              "color": "white"
             }
            },
            "header": {
             "fill": {
              "color": "#C8D4E3"
             },
             "line": {
              "color": "white"
             }
            },
            "type": "table"
           }
          ]
         },
         "layout": {
          "annotationdefaults": {
           "arrowcolor": "#2a3f5f",
           "arrowhead": 0,
           "arrowwidth": 1
          },
          "autotypenumbers": "strict",
          "coloraxis": {
           "colorbar": {
            "outlinewidth": 0,
            "ticks": ""
           }
          },
          "colorscale": {
           "diverging": [
            [
             0,
             "#8e0152"
            ],
            [
             0.1,
             "#c51b7d"
            ],
            [
             0.2,
             "#de77ae"
            ],
            [
             0.3,
             "#f1b6da"
            ],
            [
             0.4,
             "#fde0ef"
            ],
            [
             0.5,
             "#f7f7f7"
            ],
            [
             0.6,
             "#e6f5d0"
            ],
            [
             0.7,
             "#b8e186"
            ],
            [
             0.8,
             "#7fbc41"
            ],
            [
             0.9,
             "#4d9221"
            ],
            [
             1,
             "#276419"
            ]
           ],
           "sequential": [
            [
             0,
             "#0d0887"
            ],
            [
             0.1111111111111111,
             "#46039f"
            ],
            [
             0.2222222222222222,
             "#7201a8"
            ],
            [
             0.3333333333333333,
             "#9c179e"
            ],
            [
             0.4444444444444444,
             "#bd3786"
            ],
            [
             0.5555555555555556,
             "#d8576b"
            ],
            [
             0.6666666666666666,
             "#ed7953"
            ],
            [
             0.7777777777777778,
             "#fb9f3a"
            ],
            [
             0.8888888888888888,
             "#fdca26"
            ],
            [
             1,
             "#f0f921"
            ]
           ],
           "sequentialminus": [
            [
             0,
             "#0d0887"
            ],
            [
             0.1111111111111111,
             "#46039f"
            ],
            [
             0.2222222222222222,
             "#7201a8"
            ],
            [
             0.3333333333333333,
             "#9c179e"
            ],
            [
             0.4444444444444444,
             "#bd3786"
            ],
            [
             0.5555555555555556,
             "#d8576b"
            ],
            [
             0.6666666666666666,
             "#ed7953"
            ],
            [
             0.7777777777777778,
             "#fb9f3a"
            ],
            [
             0.8888888888888888,
             "#fdca26"
            ],
            [
             1,
             "#f0f921"
            ]
           ]
          },
          "colorway": [
           "#636efa",
           "#EF553B",
           "#00cc96",
           "#ab63fa",
           "#FFA15A",
           "#19d3f3",
           "#FF6692",
           "#B6E880",
           "#FF97FF",
           "#FECB52"
          ],
          "font": {
           "color": "#2a3f5f"
          },
          "geo": {
           "bgcolor": "white",
           "lakecolor": "white",
           "landcolor": "#E5ECF6",
           "showlakes": true,
           "showland": true,
           "subunitcolor": "white"
          },
          "hoverlabel": {
           "align": "left"
          },
          "hovermode": "closest",
          "mapbox": {
           "style": "light"
          },
          "paper_bgcolor": "white",
          "plot_bgcolor": "#E5ECF6",
          "polar": {
           "angularaxis": {
            "gridcolor": "white",
            "linecolor": "white",
            "ticks": ""
           },
           "bgcolor": "#E5ECF6",
           "radialaxis": {
            "gridcolor": "white",
            "linecolor": "white",
            "ticks": ""
           }
          },
          "scene": {
           "xaxis": {
            "backgroundcolor": "#E5ECF6",
            "gridcolor": "white",
            "gridwidth": 2,
            "linecolor": "white",
            "showbackground": true,
            "ticks": "",
            "zerolinecolor": "white"
           },
           "yaxis": {
            "backgroundcolor": "#E5ECF6",
            "gridcolor": "white",
            "gridwidth": 2,
            "linecolor": "white",
            "showbackground": true,
            "ticks": "",
            "zerolinecolor": "white"
           },
           "zaxis": {
            "backgroundcolor": "#E5ECF6",
            "gridcolor": "white",
            "gridwidth": 2,
            "linecolor": "white",
            "showbackground": true,
            "ticks": "",
            "zerolinecolor": "white"
           }
          },
          "shapedefaults": {
           "line": {
            "color": "#2a3f5f"
           }
          },
          "ternary": {
           "aaxis": {
            "gridcolor": "white",
            "linecolor": "white",
            "ticks": ""
           },
           "baxis": {
            "gridcolor": "white",
            "linecolor": "white",
            "ticks": ""
           },
           "bgcolor": "#E5ECF6",
           "caxis": {
            "gridcolor": "white",
            "linecolor": "white",
            "ticks": ""
           }
          },
          "title": {
           "x": 0.05
          },
          "xaxis": {
           "automargin": true,
           "gridcolor": "white",
           "linecolor": "white",
           "ticks": "",
           "title": {
            "standoff": 15
           },
           "zerolinecolor": "white",
           "zerolinewidth": 2
          },
          "yaxis": {
           "automargin": true,
           "gridcolor": "white",
           "linecolor": "white",
           "ticks": "",
           "title": {
            "standoff": 15
           },
           "zerolinecolor": "white",
           "zerolinewidth": 2
          }
         }
        },
        "title": {
         "text": "Monthly Sales Over Time"
        },
        "xaxis": {
         "anchor": "y",
         "domain": [
          0,
          1
         ],
         "title": {
          "text": "Order Date"
         }
        },
        "yaxis": {
         "anchor": "x",
         "domain": [
          0,
          1
         ],
         "title": {
          "text": "Monthly Sales"
         }
        }
       }
      }
     },
     "metadata": {},
     "output_type": "display_data"
    }
   ],
   "source": [
    "# With plotly.express as px, it can be used to create an iterative line chart\n",
    "#   to indicate the sales performance during during the period\n",
    "\n",
    "sales_trend =px.line(data_frame = df, \n",
    "              x='Date',  # x-axis: Month and Year\n",
    "              y='Sales',        # y-axis: Sales amount\n",
    "              labels={'Sales': 'Monthly Sales', 'Date': 'Order Date'},\n",
    "              title='Monthly Sales Over Time') # Configuring the time series plot\n",
    "sales_trend"
   ]
  },
  {
   "cell_type": "markdown",
   "id": "c7873ece",
   "metadata": {},
   "source": [
    "#### Sales trends shows a dwindling (irregular) monthly sales over time with no sign of positive increase"
   ]
  },
  {
   "cell_type": "markdown",
   "id": "ee8a1a7c",
   "metadata": {},
   "source": [
    "### Correlation Analysis:\n",
    "\n",
    "**Task**: Calculate the correlation between 'Sales', 'Cost', and 'Profit/Loss'.  \n",
    "**Question**: Which pair of variables has the highest correlation?  "
   ]
  },
  {
   "cell_type": "code",
   "execution_count": 58,
   "id": "36111140",
   "metadata": {},
   "outputs": [
    {
     "data": {
      "text/html": [
       "<div>\n",
       "<style scoped>\n",
       "    .dataframe tbody tr th:only-of-type {\n",
       "        vertical-align: middle;\n",
       "    }\n",
       "\n",
       "    .dataframe tbody tr th {\n",
       "        vertical-align: top;\n",
       "    }\n",
       "\n",
       "    .dataframe thead th {\n",
       "        text-align: right;\n",
       "    }\n",
       "</style>\n",
       "<table border=\"1\" class=\"dataframe\">\n",
       "  <thead>\n",
       "    <tr style=\"text-align: right;\">\n",
       "      <th></th>\n",
       "      <th>Sales</th>\n",
       "      <th>Cost</th>\n",
       "      <th>Profit/Loss</th>\n",
       "    </tr>\n",
       "  </thead>\n",
       "  <tbody>\n",
       "    <tr>\n",
       "      <th>Sales</th>\n",
       "      <td>1.000000</td>\n",
       "      <td>0.036437</td>\n",
       "      <td>0.787402</td>\n",
       "    </tr>\n",
       "    <tr>\n",
       "      <th>Cost</th>\n",
       "      <td>0.036437</td>\n",
       "      <td>1.000000</td>\n",
       "      <td>-0.587341</td>\n",
       "    </tr>\n",
       "    <tr>\n",
       "      <th>Profit/Loss</th>\n",
       "      <td>0.787402</td>\n",
       "      <td>-0.587341</td>\n",
       "      <td>1.000000</td>\n",
       "    </tr>\n",
       "  </tbody>\n",
       "</table>\n",
       "</div>"
      ],
      "text/plain": [
       "                Sales      Cost  Profit/Loss\n",
       "Sales        1.000000  0.036437     0.787402\n",
       "Cost         0.036437  1.000000    -0.587341\n",
       "Profit/Loss  0.787402 -0.587341     1.000000"
      ]
     },
     "execution_count": 58,
     "metadata": {},
     "output_type": "execute_result"
    }
   ],
   "source": [
    "# Using Correlation matrix, we find the correlation between Sales, Cost and Profit/Loss\n",
    "# First using pandas corr()\n",
    "correl = df[['Sales', 'Cost', 'Profit/Loss']].corr()\n",
    "correl"
   ]
  },
  {
   "cell_type": "code",
   "execution_count": 59,
   "id": "0249cf39",
   "metadata": {},
   "outputs": [
    {
     "data": {
      "text/plain": [
       "<Axes: >"
      ]
     },
     "execution_count": 59,
     "metadata": {},
     "output_type": "execute_result"
    },
    {
     "data": {
      "image/png": "[encoded data removed]",
      "text/plain": [
       "<Figure size 640x480 with 2 Axes>"
      ]
     },
     "metadata": {},
     "output_type": "display_data"
    }
   ],
   "source": [
    "# Plot the correlation using seaborn heat map\n",
    "sns.heatmap(data=df[['Sales', 'Cost', \n",
    "                     'Profit/Loss']].corr(), \n",
    "                     annot =True, cmap=\"Blues\")"
   ]
  },
  {
   "cell_type": "markdown",
   "id": "15330a26",
   "metadata": {},
   "source": [
    "##### Correlation Analysis show that Sales and Profit/Loss has a correlation. <br>This indicates that, the higher the sales, the higher the profit margin"
   ]
  },
  {
   "cell_type": "markdown",
   "id": "9535fb2b",
   "metadata": {},
   "source": [
    "### Filtering and Aggregation:\n",
    "\n",
    "**Task**: Filter the dataset for sales in the 'North' region and calculate the total profit for this region.  \n",
    "**Question**: What is the total profit for the 'North' region?  "
   ]
  },
  {
   "cell_type": "code",
   "execution_count": 60,
   "id": "7b3abde2",
   "metadata": {},
   "outputs": [
    {
     "data": {
      "text/html": [
       "<div>\n",
       "<style scoped>\n",
       "    .dataframe tbody tr th:only-of-type {\n",
       "        vertical-align: middle;\n",
       "    }\n",
       "\n",
       "    .dataframe tbody tr th {\n",
       "        vertical-align: top;\n",
       "    }\n",
       "\n",
       "    .dataframe thead th {\n",
       "        text-align: right;\n",
       "    }\n",
       "</style>\n",
       "<table border=\"1\" class=\"dataframe\">\n",
       "  <thead>\n",
       "    <tr style=\"text-align: right;\">\n",
       "      <th></th>\n",
       "      <th>Profit/Loss</th>\n",
       "    </tr>\n",
       "    <tr>\n",
       "      <th>Region</th>\n",
       "      <th></th>\n",
       "    </tr>\n",
       "  </thead>\n",
       "  <tbody>\n",
       "    <tr>\n",
       "      <th>North</th>\n",
       "      <td>4336.436842</td>\n",
       "    </tr>\n",
       "  </tbody>\n",
       "</table>\n",
       "</div>"
      ],
      "text/plain": [
       "        Profit/Loss\n",
       "Region             \n",
       "North   4336.436842"
      ]
     },
     "execution_count": 60,
     "metadata": {},
     "output_type": "execute_result"
    }
   ],
   "source": [
    "# Get the overall summation of Sales, Cost and Profit/loss by Region\n",
    "North= df.groupby(['Region'])[\n",
    "        ['Profit/Loss']].sum().sort_values(\n",
    "        ['Profit/Loss'], ascending=False).head(1)\n",
    "North"
   ]
  },
  {
   "cell_type": "code",
   "execution_count": 61,
   "id": "d30134f7-1797-447e-881d-1652fd14a2a0",
   "metadata": {},
   "outputs": [
    {
     "data": {
      "image/png": "[encoded data removed]",
      "text/plain": [
       "<Figure size 500x500 with 1 Axes>"
      ]
     },
     "metadata": {},
     "output_type": "display_data"
    }
   ],
   "source": [
    "# Using a bar chart showing the total 'Profit/Loss' for the North region.  \n",
    "\n",
    "plt.figure(figsize=(5,5))\n",
    "region=df.groupby(by='Region')['Profit/Loss'].sum()\n",
    "\n",
    "north = sns.barplot(data=North, width = 0.1)\n",
    "\n",
    "for i in north.patches:\n",
    "    north.annotate(format(i.get_height(), '.0f'),\n",
    "                  (i.get_x() + i.get_width() / 2,\n",
    "                 i.get_height()), ha='center', va='center',\n",
    "                 size=12, xytext=(0, 5),\n",
    "                 textcoords='offset points')\n"
   ]
  },
  {
   "cell_type": "markdown",
   "id": "5f950ae2",
   "metadata": {},
   "source": [
    "### Advanced Feature Engineering:\n",
    "\n",
    "**Task**: Create a new column 'ROI' (Return on Investment) calculated as `(Profit/Loss / Cost) * 100`.  \n",
    "**Question**: What is the average ROI for product 'B'?  "
   ]
  },
  {
   "cell_type": "code",
   "execution_count": 62,
   "id": "7e3fbb04",
   "metadata": {},
   "outputs": [
    {
     "data": {
      "text/html": [
       "<div>\n",
       "<style scoped>\n",
       "    .dataframe tbody tr th:only-of-type {\n",
       "        vertical-align: middle;\n",
       "    }\n",
       "\n",
       "    .dataframe tbody tr th {\n",
       "        vertical-align: top;\n",
       "    }\n",
       "\n",
       "    .dataframe thead th {\n",
       "        text-align: right;\n",
       "    }\n",
       "</style>\n",
       "<table border=\"1\" class=\"dataframe\">\n",
       "  <thead>\n",
       "    <tr style=\"text-align: right;\">\n",
       "      <th></th>\n",
       "      <th>Date</th>\n",
       "      <th>Product</th>\n",
       "      <th>Region</th>\n",
       "      <th>Sales</th>\n",
       "      <th>Cost</th>\n",
       "      <th>Profit/Loss</th>\n",
       "      <th>ROI</th>\n",
       "    </tr>\n",
       "  </thead>\n",
       "  <tbody>\n",
       "    <tr>\n",
       "      <th>0</th>\n",
       "      <td>2023-01-01</td>\n",
       "      <td>A</td>\n",
       "      <td>North</td>\n",
       "      <td>473.0</td>\n",
       "      <td>134.0</td>\n",
       "      <td>339.0</td>\n",
       "      <td>252.985075</td>\n",
       "    </tr>\n",
       "    <tr>\n",
       "      <th>1</th>\n",
       "      <td>2023-01-02</td>\n",
       "      <td>B</td>\n",
       "      <td>South</td>\n",
       "      <td>232.0</td>\n",
       "      <td>167.0</td>\n",
       "      <td>65.0</td>\n",
       "      <td>38.922156</td>\n",
       "    </tr>\n",
       "    <tr>\n",
       "      <th>2</th>\n",
       "      <td>2023-01-03</td>\n",
       "      <td>C</td>\n",
       "      <td>East</td>\n",
       "      <td>400.0</td>\n",
       "      <td>250.0</td>\n",
       "      <td>150.0</td>\n",
       "      <td>60.000000</td>\n",
       "    </tr>\n",
       "    <tr>\n",
       "      <th>3</th>\n",
       "      <td>2023-01-04</td>\n",
       "      <td>D</td>\n",
       "      <td>West</td>\n",
       "      <td>456.0</td>\n",
       "      <td>311.0</td>\n",
       "      <td>145.0</td>\n",
       "      <td>46.623794</td>\n",
       "    </tr>\n",
       "    <tr>\n",
       "      <th>4</th>\n",
       "      <td>2023-01-05</td>\n",
       "      <td>E</td>\n",
       "      <td>North</td>\n",
       "      <td>458.0</td>\n",
       "      <td>255.0</td>\n",
       "      <td>203.0</td>\n",
       "      <td>79.607843</td>\n",
       "    </tr>\n",
       "  </tbody>\n",
       "</table>\n",
       "</div>"
      ],
      "text/plain": [
       "        Date Product Region  Sales   Cost  Profit/Loss         ROI\n",
       "0 2023-01-01       A  North  473.0  134.0        339.0  252.985075\n",
       "1 2023-01-02       B  South  232.0  167.0         65.0   38.922156\n",
       "2 2023-01-03       C   East  400.0  250.0        150.0   60.000000\n",
       "3 2023-01-04       D   West  456.0  311.0        145.0   46.623794\n",
       "4 2023-01-05       E  North  458.0  255.0        203.0   79.607843"
      ]
     },
     "execution_count": 62,
     "metadata": {},
     "output_type": "execute_result"
    }
   ],
   "source": [
    "df['ROI'] = df['Profit/Loss'] / df['Cost'] * 100\n",
    "df.head()"
   ]
  },
  {
   "cell_type": "code",
   "execution_count": 63,
   "id": "75e584d1",
   "metadata": {},
   "outputs": [
    {
     "data": {
      "text/html": [
       "<div>\n",
       "<style scoped>\n",
       "    .dataframe tbody tr th:only-of-type {\n",
       "        vertical-align: middle;\n",
       "    }\n",
       "\n",
       "    .dataframe tbody tr th {\n",
       "        vertical-align: top;\n",
       "    }\n",
       "\n",
       "    .dataframe thead th {\n",
       "        text-align: right;\n",
       "    }\n",
       "</style>\n",
       "<table border=\"1\" class=\"dataframe\">\n",
       "  <thead>\n",
       "    <tr style=\"text-align: right;\">\n",
       "      <th></th>\n",
       "      <th>ROI</th>\n",
       "    </tr>\n",
       "    <tr>\n",
       "      <th>Product</th>\n",
       "      <th></th>\n",
       "    </tr>\n",
       "  </thead>\n",
       "  <tbody>\n",
       "    <tr>\n",
       "      <th>E</th>\n",
       "      <td>84.185811</td>\n",
       "    </tr>\n",
       "    <tr>\n",
       "      <th>D</th>\n",
       "      <td>64.438832</td>\n",
       "    </tr>\n",
       "    <tr>\n",
       "      <th>F</th>\n",
       "      <td>53.353480</td>\n",
       "    </tr>\n",
       "    <tr>\n",
       "      <th>A</th>\n",
       "      <td>42.729318</td>\n",
       "    </tr>\n",
       "    <tr>\n",
       "      <th>B</th>\n",
       "      <td>39.651362</td>\n",
       "    </tr>\n",
       "    <tr>\n",
       "      <th>C</th>\n",
       "      <td>34.494837</td>\n",
       "    </tr>\n",
       "    <tr>\n",
       "      <th>G</th>\n",
       "      <td>32.988871</td>\n",
       "    </tr>\n",
       "    <tr>\n",
       "      <th>H</th>\n",
       "      <td>25.055524</td>\n",
       "    </tr>\n",
       "  </tbody>\n",
       "</table>\n",
       "</div>"
      ],
      "text/plain": [
       "               ROI\n",
       "Product           \n",
       "E        84.185811\n",
       "D        64.438832\n",
       "F        53.353480\n",
       "A        42.729318\n",
       "B        39.651362\n",
       "C        34.494837\n",
       "G        32.988871\n",
       "H        25.055524"
      ]
     },
     "execution_count": 63,
     "metadata": {},
     "output_type": "execute_result"
    }
   ],
   "source": [
    "# Average ROI of Product B\n",
    "Avg_ROI = df.groupby(['Product'])['ROI'].mean().sort_values(ascending=False)\n",
    "Avg_ROI = pd.DataFrame(Avg_ROI)\n",
    "pd.DataFrame(Avg_ROI)"
   ]
  },
  {
   "cell_type": "code",
   "execution_count": 64,
   "id": "4eb4936d",
   "metadata": {},
   "outputs": [
    {
     "data": {
      "text/html": [
       "<div>\n",
       "<style scoped>\n",
       "    .dataframe tbody tr th:only-of-type {\n",
       "        vertical-align: middle;\n",
       "    }\n",
       "\n",
       "    .dataframe tbody tr th {\n",
       "        vertical-align: top;\n",
       "    }\n",
       "\n",
       "    .dataframe thead th {\n",
       "        text-align: right;\n",
       "    }\n",
       "</style>\n",
       "<table border=\"1\" class=\"dataframe\">\n",
       "  <thead>\n",
       "    <tr style=\"text-align: right;\">\n",
       "      <th></th>\n",
       "      <th>ROI</th>\n",
       "    </tr>\n",
       "  </thead>\n",
       "  <tbody>\n",
       "    <tr>\n",
       "      <th>B</th>\n",
       "      <td>39.651362</td>\n",
       "    </tr>\n",
       "  </tbody>\n",
       "</table>\n",
       "</div>"
      ],
      "text/plain": [
       "         ROI\n",
       "B  39.651362"
      ]
     },
     "execution_count": 64,
     "metadata": {},
     "output_type": "execute_result"
    }
   ],
   "source": [
    "# Average ROI of Product B\n",
    "Avg_ROI = df.groupby(['Product'])['ROI'].mean().sort_values()\n",
    "Avg_ROI = pd.DataFrame(Avg_ROI)\n",
    "pd.DataFrame(Avg_ROI.iloc[3]).T"
   ]
  },
  {
   "cell_type": "markdown",
   "id": "3a65c18f",
   "metadata": {},
   "source": [
    "### Outlier Detection:\n",
    "\n",
    "**Task**: Identify any outliers in the 'Sales' column using a boxplot.  \n",
    "**Question**: How many outliers are present in the 'Sales' data?  \n"
   ]
  },
  {
   "cell_type": "code",
   "execution_count": 65,
   "id": "ceea494e",
   "metadata": {},
   "outputs": [
    {
     "data": {
      "image/png": "[encoded data removed]",
      "text/plain": [
       "<Figure size 640x480 with 1 Axes>"
      ]
     },
     "metadata": {},
     "output_type": "display_data"
    }
   ],
   "source": [
    "# To check for outliers, we use boxplot to identify any outliers present in the dataset\n",
    "sns.boxplot(df.Sales)\n",
    "plt.title('Sales Analysis');"
   ]
  },
  {
   "cell_type": "code",
   "execution_count": 66,
   "id": "d600540d",
   "metadata": {},
   "outputs": [
    {
     "data": {
      "image/png": "[encoded data removed]",
      "text/plain": [
       "<Figure size 640x480 with 1 Axes>"
      ]
     },
     "metadata": {},
     "output_type": "display_data"
    }
   ],
   "source": [
    "plt.boxplot(data=df, x='Sales')\n",
    "plt.title('Sales Analysis');"
   ]
  },
  {
   "cell_type": "markdown",
   "id": "763a84e4",
   "metadata": {},
   "source": [
    "##### There are not outliers in the dataset"
   ]
  },
  {
   "cell_type": "markdown",
   "id": "4e38c899",
   "metadata": {},
   "source": [
    "### Final Analysis:\n",
    "\n",
    "**Task**: Provide a summary of your findings, including the key insights from your analysis. \n",
    "\n",
    "Mention any patterns, trends, or anomalies you discovered in the data.  \n",
    "\n",
    "**Question**: Based on your analysis, which product would you recommend for increased focus in sales strategies and why?  \n",
    "**Hint**: Synthesize the results from all your analyses to form a conclusion."
   ]
  },
  {
   "cell_type": "markdown",
   "id": "9bcc67ff",
   "metadata": {},
   "source": [
    "### SUMMARY\n",
    "\n",
    "1. This data has no outliers upon analysis\n",
    "\n",
    "2. There is a correlation between **Sales** and **Profit/Loss**\n",
    "\n",
    "3. Most sales and profit comes from the **North** followed by **West**\n",
    "\n",
    "4. Products **D, E, A** has the highest sales margin\n",
    "\n",
    "5. Products **E, D, A** are the most profitable products\n",
    "\n",
    "6. Product **A** has the most **ROI**\n",
    "\n",
    "7. While products  **D, E, A** has the highest sales margin, overall sales day over day are irregular with no upward projection\n",
    "\n",
    "8. Sales turnout in the East is low with Products **C and G** having low sales and profit margin\n"
   ]
  },
  {
   "cell_type": "markdown",
   "id": "8ee959a9",
   "metadata": {},
   "source": [
    "#### Recommendation\n",
    "It can be deduced that products sold in the North and West are attaining market penetration, <br>\n",
    "     focus should be on the least performig products and region such as the East to ensure <br>\n",
    "       market penetration and increased sales.\n",
    "\n",
    "Product promotion should be done across all region with an increased focus on the East. \n",
    "\n",
    "The higher the sales margin, the better the profit margin"
   ]
  }
 ],
 "metadata": {
  "kernelspec": {
   "display_name": "Python 3 (ipykernel)",
   "language": "python",
   "name": "python3"
  },
  "language_info": {
   "codemirror_mode": {
    "name": "ipython",
    "version": 3
   },
   "file_extension": ".py",
   "mimetype": "text/x-python",
   "name": "python",
   "nbconvert_exporter": "python",
   "pygments_lexer": "ipython3",
   "version": "3.12.4"
  }
 },
 "nbformat": 4,
 "nbformat_minor": 5
}
